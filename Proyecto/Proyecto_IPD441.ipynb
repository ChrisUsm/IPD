{
 "cells": [
  {
   "cell_type": "markdown",
   "metadata": {},
   "source": [
    "## Librerias"
   ]
  },
  {
   "cell_type": "code",
   "execution_count": 1,
   "metadata": {},
   "outputs": [],
   "source": [
    "from ultralytics import YOLO\n",
    "import cv2\n",
    "import numpy as np\n",
    "import time\n",
    "import os\n",
    "from collections import deque\n",
    "from moviepy.editor import VideoFileClip, concatenate_videoclips"
   ]
  },
  {
   "cell_type": "markdown",
   "metadata": {},
   "source": [
    "## Funcion para detectar si el balon toca el aro"
   ]
  },
  {
   "cell_type": "code",
   "execution_count": 2,
   "metadata": {},
   "outputs": [],
   "source": [
    "def boxes_touch(box1, box2):\n",
    "    x1_min, y1_min, x1_max, y1_max = box1\n",
    "    x2_min, y2_min, x2_max, y2_max = box2\n",
    "    return x1_min <= x2_max and x1_max >= x2_min and y1_min <= y2_max and y2_max >= y1_min"
   ]
  },
  {
   "cell_type": "markdown",
   "metadata": {},
   "source": [
    "## Funcion para detectar si el jugador esta cerca del aro"
   ]
  },
  {
   "cell_type": "code",
   "execution_count": 3,
   "metadata": {},
   "outputs": [],
   "source": [
    "def is_inside_circle(center, radius, box):\n",
    "    x_center, y_center = center\n",
    "    x1, y1, x2, y2 = box\n",
    "    points_to_check = [(x1, y1), (x2, y1), (x1, y2), (x2, y2)]\n",
    "    for (x, y) in points_to_check:\n",
    "        if np.sqrt((x - x_center)**2 + (y - y_center)**2) <= radius:\n",
    "            return True\n",
    "    return False"
   ]
  },
  {
   "cell_type": "markdown",
   "metadata": {},
   "source": [
    "## Funcion para realizar el clip de la jugada destacada"
   ]
  },
  {
   "cell_type": "code",
   "execution_count": 4,
   "metadata": {},
   "outputs": [],
   "source": [
    "def save_clip(start_frames, end_frames, width, height, filename, fps):\n",
    "    fourcc = cv2.VideoWriter_fourcc(*'mp4v')\n",
    "    out = cv2.VideoWriter(filename, fourcc, fps, (width, height))\n",
    "    for frame in start_frames + end_frames:\n",
    "        out.write(frame)\n",
    "    out.release()"
   ]
  },
  {
   "cell_type": "markdown",
   "metadata": {},
   "source": [
    "## Funcion para calcular la distancia Jugador-Aro"
   ]
  },
  {
   "cell_type": "code",
   "execution_count": 5,
   "metadata": {},
   "outputs": [],
   "source": [
    "def calculate_distance(point1, point2):\n",
    "    return np.sqrt((point1[0] - point2[0])**2 + (point1[1] - point2[1])**2)"
   ]
  },
  {
   "cell_type": "markdown",
   "metadata": {},
   "source": [
    "## Funcion para unir los clips"
   ]
  },
  {
   "cell_type": "code",
   "execution_count": 6,
   "metadata": {},
   "outputs": [],
   "source": [
    "def concatenate_clips(clip_filenames, output_filename):\n",
    "    clips = [VideoFileClip(filename) for filename in clip_filenames]\n",
    "    final_clip = concatenate_videoclips(clips)\n",
    "    final_clip.write_videofile(output_filename, codec=\"libx264\")"
   ]
  },
  {
   "cell_type": "markdown",
   "metadata": {},
   "source": [
    "## Procesamiento del video"
   ]
  },
  {
   "cell_type": "code",
   "execution_count": 7,
   "metadata": {},
   "outputs": [],
   "source": [
    "def highlight(video_path):\n",
    "    \n",
    "    #Se crea la carpte IMG para almacenar las jugadas destacadas\n",
    "    if not os.path.exists('IMG'):\n",
    "        os.makedirs('IMG')\n",
    "\n",
    "    #Se carga el modelo\n",
    "    model = YOLO('Modelo25Pro.pt')\n",
    "    \"\"\"\n",
    "    Este modelo posee 4 clases\n",
    "    -0 Que corresponde al tablero\n",
    "    -1 Que corresponde al balon\n",
    "    -2 Que corresponde al aro\n",
    "    -3 Que corresponde a los jugadores\n",
    "    \n",
    "    Se detectaran unicamente las clases 1, 2 y 3\n",
    "    \"\"\"\n",
    "    model.predict(classes=[1, 2, 3])\n",
    "\n",
    "    #Se entrega la ruta del video\n",
    "    cap = cv2.VideoCapture(video_path)\n",
    "    fps = cap.get(cv2.CAP_PROP_FPS)\n",
    "    \n",
    "    #Se definen los parametros para posteriormente crear el clip de la jugada destacada\n",
    "    buffer_seconds = 3\n",
    "    buffer_size = int(fps * buffer_seconds)\n",
    "    frame_buffer = deque(maxlen=buffer_size)\n",
    "    \n",
    "    #Se crean variables para la correcta creacion del clip de la jugada destacada\n",
    "    recording = False\n",
    "    end_buffer = []\n",
    "    frames_after_touch = int(fps * 3)\n",
    "\n",
    "    #Se crean variables para las futuras condiciones de jugadas destacadas\n",
    "    last_player_center = None\n",
    "    ball_touched_nothing = False\n",
    "    frames_to_save_launch = None\n",
    "    recording_launch = False\n",
    "    clip_filenames = []\n",
    "\n",
    "    while cap.isOpened():\n",
    "        success, frame = cap.read()\n",
    "        if not success:\n",
    "            break\n",
    "\n",
    "        start_time = time.perf_counter()\n",
    "        results = model(frame, verbose=False)\n",
    "        end_time = time.perf_counter()\n",
    "        inference_time = end_time - start_time\n",
    "        annotated_frame = results[0].plot()\n",
    "        \n",
    "        #Se crean variables para almacenar las coordenadas de los balones detectados, de los aros detectados, y de los jugadores detectados\n",
    "        ball_coords, rim_coords, player_coords = [], [], []\n",
    "\n",
    "        #Se guardan las coordenadas de cada clase detectada en su respectiva lista\n",
    "        for result in results:\n",
    "            for box in result.boxes:\n",
    "                cls = int(box.cls.cpu().numpy()[0])\n",
    "                coords = box.xyxy.cpu().numpy()[0]\n",
    "                if cls == 1:\n",
    "                    ball_coords.append(coords)\n",
    "                elif cls == 2:\n",
    "                    rim_coords.append(coords)\n",
    "                elif cls == 3:\n",
    "                    player_coords.append(coords)\n",
    "\n",
    "        #Se obtienen las coordenadas del aro para proponer un area de deteccion sobre este\n",
    "        if rim_coords:\n",
    "            x_center = int((rim_coords[0][0] + rim_coords[0][2]) / 2)\n",
    "            y_center = int((rim_coords[0][1] + rim_coords[0][3]) / 2)\n",
    "            radius = 100\n",
    "            cv2.circle(annotated_frame, (x_center, y_center), radius, (0, 255, 0), 2)\n",
    "\n",
    "        #Se muestran los FPS\n",
    "        cv2.putText(annotated_frame, f\"FPS: {int(1 / inference_time)}\", (10, 30), cv2.FONT_HERSHEY_SIMPLEX, 1, (255, 0, 0), 2)\n",
    "        cv2.imshow('Frame', annotated_frame)\n",
    "        \n",
    "        #Se toma el buffer antes creado con el frame actual\n",
    "        frame_buffer.append(frame)\n",
    "\n",
    "\n",
    "        #Condiciones para hacer clip de las jugadas destacadas\n",
    "        \n",
    "        #Condicion para un Dunk/Bandeja\n",
    "        for ball_box in ball_coords:\n",
    "            for rim_box in rim_coords:\n",
    "                if boxes_touch(ball_box, rim_box):\n",
    "                    for player_box in player_coords:\n",
    "                        if is_inside_circle((x_center, y_center), radius, player_box):\n",
    "                            if not recording:\n",
    "                                recording = True\n",
    "                                end_buffer = []\n",
    "                                frames_to_save = list(frame_buffer)\n",
    "                            video_time = int(cap.get(cv2.CAP_PROP_POS_MSEC) / 1000)\n",
    "                            filename = f'IMG/{video_time}_Dunk_Bandeja.jpg'\n",
    "                            cv2.imwrite(filename, annotated_frame)\n",
    "                            break\n",
    "\n",
    "        #Condicion para un triple\n",
    "        for ball_box in ball_coords:\n",
    "            if last_player_center is None:\n",
    "                for player_box in player_coords:\n",
    "                    if boxes_touch(ball_box, player_box):\n",
    "                        last_player_center = ((player_box[0] + player_box[2]) // 2, (player_box[1] + player_box[3]) // 2)\n",
    "                        ball_touched_nothing = True\n",
    "                        break\n",
    "            else:\n",
    "                ball_touched_player = any(boxes_touch(ball_box, player_box) for player_box in player_coords)\n",
    "                if not ball_touched_player:\n",
    "                    if ball_touched_nothing:\n",
    "                        for rim_box in rim_coords:\n",
    "                            if boxes_touch(ball_box, rim_box):\n",
    "                                distance = calculate_distance(last_player_center, (x_center, y_center))\n",
    "                                if distance > 400:\n",
    "                                    recording_launch = True\n",
    "                                    end_buffer_launch = []\n",
    "                                    frames_to_save_launch = list(frame_buffer)\n",
    "                                    video_time = int(cap.get(cv2.CAP_PROP_POS_MSEC) / 1000)\n",
    "                                    filename = f'IMG/{video_time}_Triple.jpg'\n",
    "                                    cv2.imwrite(filename, annotated_frame)\n",
    "                                last_player_center = None\n",
    "                                ball_touched_nothing = False\n",
    "                                break\n",
    "                else:\n",
    "                    last_player_center = ((player_box[0] + player_box[2]) // 2, (player_box[1] + player_box[3]) // 2)\n",
    "                    ball_touched_nothing = True\n",
    "\n",
    "        #Se guarda el clip del Dunk/Bandeja\n",
    "        if recording:\n",
    "            end_buffer.append(frame)\n",
    "            if len(end_buffer) >= frames_after_touch:\n",
    "                recording = False\n",
    "                clip_filename = f'IMG/Clip_{video_time}.mp4'\n",
    "                save_clip(frames_to_save, end_buffer, int(cap.get(cv2.CAP_PROP_FRAME_WIDTH)), int(cap.get(cv2.CAP_PROP_FRAME_HEIGHT)), clip_filename, fps)\n",
    "                clip_filenames.append(clip_filename)\n",
    "                \n",
    "        #Se guarda el clip del triple\n",
    "        if recording_launch:\n",
    "            end_buffer_launch.append(frame)\n",
    "            if len(end_buffer_launch) >= frames_after_touch:\n",
    "                recording_launch = False\n",
    "                clip_filename_launch = f'IMG/Clip_{video_time}.mp4'\n",
    "                save_clip(frames_to_save_launch, end_buffer_launch, int(cap.get(cv2.CAP_PROP_FRAME_WIDTH)), int(cap.get(cv2.CAP_PROP_FRAME_HEIGHT)), clip_filename_launch, fps)\n",
    "                clip_filenames.append(clip_filename_launch)\n",
    "                \n",
    "        if cv2.waitKey(1) & 0xFF == ord(\"q\"):\n",
    "            break\n",
    "\n",
    "    cap.release()\n",
    "    cv2.destroyAllWindows()\n",
    "    \n",
    "    #Se unen los clips generados para obtener un video final\n",
    "    if clip_filenames:\n",
    "        concatenate_clips(clip_filenames, 'IMG/Highlights.mp4')"
   ]
  },
  {
   "cell_type": "markdown",
   "metadata": {},
   "source": [
    "## Ejecucion del proyecto"
   ]
  },
  {
   "cell_type": "code",
   "execution_count": 8,
   "metadata": {},
   "outputs": [
    {
     "name": "stdout",
     "output_type": "stream",
     "text": [
      "WARNING  'source' is missing. Using 'source=C:\\Users\\Varfyo\\Desktop\\PC_2021\\USM\\U_11vo_semestre\\IPD-441 Visin Por Computador\\Proyecto\\my-venv\\Lib\\site-packages\\ultralytics\\assets'.\n",
      "\n",
      "image 1/2 C:\\Users\\Varfyo\\Desktop\\PC_2021\\USM\\U_11vo_semestre\\IPD-441 Visin Por Computador\\Proyecto\\my-venv\\Lib\\site-packages\\ultralytics\\assets\\bus.jpg: 640x480 3 Players, 119.7ms\n",
      "image 2/2 C:\\Users\\Varfyo\\Desktop\\PC_2021\\USM\\U_11vo_semestre\\IPD-441 Visin Por Computador\\Proyecto\\my-venv\\Lib\\site-packages\\ultralytics\\assets\\zidane.jpg: 384x640 2 Players, 164.6ms\n",
      "Speed: 12.0ms preprocess, 142.1ms inference, 200.1ms postprocess per image at shape (1, 3, 384, 640)\n",
      "Moviepy - Building video IMG/Highlights.mp4.\n",
      "Moviepy - Writing video IMG/Highlights.mp4\n",
      "\n"
     ]
    },
    {
     "name": "stderr",
     "output_type": "stream",
     "text": [
      "                                                                \r"
     ]
    },
    {
     "name": "stdout",
     "output_type": "stream",
     "text": [
      "Moviepy - Done !\n",
      "Moviepy - video ready IMG/Highlights.mp4\n"
     ]
    }
   ],
   "source": [
    "video_path = \"video2.mp4\"\n",
    "highlight(video_path)"
   ]
  }
 ],
 "metadata": {
  "kernelspec": {
   "display_name": "my-venv",
   "language": "python",
   "name": "python3"
  },
  "language_info": {
   "codemirror_mode": {
    "name": "ipython",
    "version": 3
   },
   "file_extension": ".py",
   "mimetype": "text/x-python",
   "name": "python",
   "nbconvert_exporter": "python",
   "pygments_lexer": "ipython3",
   "version": "3.10.2"
  }
 },
 "nbformat": 4,
 "nbformat_minor": 2
}
